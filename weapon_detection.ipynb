{
 "cells": [
  {
   "cell_type": "code",
   "execution_count": 1,
   "id": "3262b43e",
   "metadata": {},
   "outputs": [
    {
     "name": "stderr",
     "output_type": "stream",
     "text": [
      "fatal: destination path 'yolov5' already exists and is not an empty directory.\n"
     ]
    }
   ],
   "source": [
    "!git clone https://github.com/ultralytics/yolov5"
   ]
  },
  {
   "cell_type": "code",
   "execution_count": 2,
   "id": "597de3b9",
   "metadata": {},
   "outputs": [
    {
     "name": "stdout",
     "output_type": "stream",
     "text": [
      "Requirement already satisfied: matplotlib>=3.2.2 in c:\\users\\richie\\anaconda3\\lib\\site-packages (from -r requirements.txt (line 5)) (3.3.4)\n",
      "Requirement already satisfied: numpy>=1.18.5 in c:\\users\\richie\\anaconda3\\lib\\site-packages (from -r requirements.txt (line 6)) (1.18.5)\n",
      "Requirement already satisfied: opencv-python>=4.1.1 in c:\\users\\richie\\anaconda3\\lib\\site-packages (from -r requirements.txt (line 7)) (4.6.0.66)\n",
      "Requirement already satisfied: Pillow>=7.1.2 in c:\\users\\richie\\anaconda3\\lib\\site-packages (from -r requirements.txt (line 8)) (8.2.0)\n",
      "Requirement already satisfied: PyYAML>=5.3.1 in c:\\users\\richie\\anaconda3\\lib\\site-packages (from -r requirements.txt (line 9)) (5.4.1)\n",
      "Requirement already satisfied: requests>=2.23.0 in c:\\users\\richie\\anaconda3\\lib\\site-packages (from -r requirements.txt (line 10)) (2.25.1)\n",
      "Requirement already satisfied: scipy>=1.4.1 in c:\\users\\richie\\anaconda3\\lib\\site-packages (from -r requirements.txt (line 11)) (1.4.1)\n",
      "Requirement already satisfied: torch>=1.7.0 in c:\\users\\richie\\anaconda3\\lib\\site-packages (from -r requirements.txt (line 12)) (1.11.0)\n",
      "Requirement already satisfied: torchvision>=0.8.1 in c:\\users\\richie\\anaconda3\\lib\\site-packages (from -r requirements.txt (line 13)) (0.12.0)\n",
      "Requirement already satisfied: tqdm>=4.41.0 in c:\\users\\richie\\anaconda3\\lib\\site-packages (from -r requirements.txt (line 14)) (4.59.0)\n",
      "Requirement already satisfied: protobuf<=3.20.1 in c:\\users\\richie\\anaconda3\\lib\\site-packages (from -r requirements.txt (line 15)) (3.19.3)\n",
      "Requirement already satisfied: tensorboard>=2.4.1 in c:\\users\\richie\\anaconda3\\lib\\site-packages (from -r requirements.txt (line 18)) (2.8.0)\n",
      "Requirement already satisfied: pandas>=1.1.4 in c:\\users\\richie\\anaconda3\\lib\\site-packages (from -r requirements.txt (line 22)) (1.2.4)\n",
      "Requirement already satisfied: seaborn>=0.11.0 in c:\\users\\richie\\anaconda3\\lib\\site-packages (from -r requirements.txt (line 23)) (0.11.1)\n",
      "Requirement already satisfied: ipython in c:\\users\\richie\\anaconda3\\lib\\site-packages (from -r requirements.txt (line 35)) (7.22.0)\n",
      "Requirement already satisfied: psutil in c:\\users\\richie\\anaconda3\\lib\\site-packages (from -r requirements.txt (line 36)) (5.8.0)\n",
      "Requirement already satisfied: thop in c:\\users\\richie\\anaconda3\\lib\\site-packages (from -r requirements.txt (line 37)) (0.1.0.post2206102148)\n",
      "Requirement already satisfied: python-dateutil>=2.1 in c:\\users\\richie\\anaconda3\\lib\\site-packages (from matplotlib>=3.2.2->-r requirements.txt (line 5)) (2.8.1)\n",
      "Requirement already satisfied: pyparsing!=2.0.4,!=2.1.2,!=2.1.6,>=2.0.3 in c:\\users\\richie\\anaconda3\\lib\\site-packages (from matplotlib>=3.2.2->-r requirements.txt (line 5)) (2.4.7)\n",
      "Requirement already satisfied: cycler>=0.10 in c:\\users\\richie\\anaconda3\\lib\\site-packages (from matplotlib>=3.2.2->-r requirements.txt (line 5)) (0.10.0)\n",
      "Requirement already satisfied: kiwisolver>=1.0.1 in c:\\users\\richie\\anaconda3\\lib\\site-packages (from matplotlib>=3.2.2->-r requirements.txt (line 5)) (1.3.1)\n",
      "Requirement already satisfied: pytz>=2017.3 in c:\\users\\richie\\anaconda3\\lib\\site-packages (from pandas>=1.1.4->-r requirements.txt (line 22)) (2021.1)\n",
      "Requirement already satisfied: urllib3<1.27,>=1.21.1 in c:\\users\\richie\\anaconda3\\lib\\site-packages (from requests>=2.23.0->-r requirements.txt (line 10)) (1.26.4)\n",
      "Requirement already satisfied: certifi>=2017.4.17 in c:\\users\\richie\\anaconda3\\lib\\site-packages (from requests>=2.23.0->-r requirements.txt (line 10)) (2020.12.5)\n",
      "Requirement already satisfied: idna<3,>=2.5 in c:\\users\\richie\\anaconda3\\lib\\site-packages (from requests>=2.23.0->-r requirements.txt (line 10)) (2.10)\n",
      "Requirement already satisfied: chardet<5,>=3.0.2 in c:\\users\\richie\\anaconda3\\lib\\site-packages (from requests>=2.23.0->-r requirements.txt (line 10)) (4.0.0)\n",
      "Requirement already satisfied: grpcio>=1.24.3 in c:\\users\\richie\\anaconda3\\lib\\site-packages (from tensorboard>=2.4.1->-r requirements.txt (line 18)) (1.43.0)\n",
      "Requirement already satisfied: tensorboard-plugin-wit>=1.6.0 in c:\\users\\richie\\anaconda3\\lib\\site-packages (from tensorboard>=2.4.1->-r requirements.txt (line 18)) (1.8.1)\n",
      "Requirement already satisfied: markdown>=2.6.8 in c:\\users\\richie\\anaconda3\\lib\\site-packages (from tensorboard>=2.4.1->-r requirements.txt (line 18)) (3.3.6)\n",
      "Requirement already satisfied: google-auth<3,>=1.6.3 in c:\\users\\richie\\anaconda3\\lib\\site-packages (from tensorboard>=2.4.1->-r requirements.txt (line 18)) (2.5.0)\n",
      "Requirement already satisfied: wheel>=0.26 in c:\\users\\richie\\anaconda3\\lib\\site-packages (from tensorboard>=2.4.1->-r requirements.txt (line 18)) (0.36.2)\n",
      "Requirement already satisfied: absl-py>=0.4 in c:\\users\\richie\\anaconda3\\lib\\site-packages (from tensorboard>=2.4.1->-r requirements.txt (line 18)) (1.0.0)\n",
      "Requirement already satisfied: tensorboard-data-server<0.7.0,>=0.6.0 in c:\\users\\richie\\anaconda3\\lib\\site-packages (from tensorboard>=2.4.1->-r requirements.txt (line 18)) (0.6.1)\n",
      "Requirement already satisfied: werkzeug>=0.11.15 in c:\\users\\richie\\anaconda3\\lib\\site-packages (from tensorboard>=2.4.1->-r requirements.txt (line 18)) (1.0.1)\n",
      "Requirement already satisfied: setuptools>=41.0.0 in c:\\users\\richie\\anaconda3\\lib\\site-packages (from tensorboard>=2.4.1->-r requirements.txt (line 18)) (52.0.0.post20210125)\n",
      "Requirement already satisfied: google-auth-oauthlib<0.5,>=0.4.1 in c:\\users\\richie\\anaconda3\\lib\\site-packages (from tensorboard>=2.4.1->-r requirements.txt (line 18)) (0.4.6)\n",
      "Requirement already satisfied: typing-extensions in c:\\users\\richie\\anaconda3\\lib\\site-packages (from torch>=1.7.0->-r requirements.txt (line 12)) (3.7.4.3)\n",
      "Requirement already satisfied: six in c:\\users\\richie\\anaconda3\\lib\\site-packages (from absl-py>=0.4->tensorboard>=2.4.1->-r requirements.txt (line 18)) (1.15.0)\n",
      "Requirement already satisfied: rsa<5,>=3.1.4 in c:\\users\\richie\\anaconda3\\lib\\site-packages (from google-auth<3,>=1.6.3->tensorboard>=2.4.1->-r requirements.txt (line 18)) (4.8)\n",
      "Requirement already satisfied: cachetools<6.0,>=2.0.0 in c:\\users\\richie\\anaconda3\\lib\\site-packages (from google-auth<3,>=1.6.3->tensorboard>=2.4.1->-r requirements.txt (line 18)) (5.0.0)\n",
      "Requirement already satisfied: pyasn1-modules>=0.2.1 in c:\\users\\richie\\anaconda3\\lib\\site-packages (from google-auth<3,>=1.6.3->tensorboard>=2.4.1->-r requirements.txt (line 18)) (0.2.8)\n",
      "Requirement already satisfied: requests-oauthlib>=0.7.0 in c:\\users\\richie\\anaconda3\\lib\\site-packages (from google-auth-oauthlib<0.5,>=0.4.1->tensorboard>=2.4.1->-r requirements.txt (line 18)) (1.3.0)\n",
      "Requirement already satisfied: importlib-metadata>=4.4 in c:\\users\\richie\\anaconda3\\lib\\site-packages (from markdown>=2.6.8->tensorboard>=2.4.1->-r requirements.txt (line 18)) (4.10.1)\n",
      "Requirement already satisfied: zipp>=0.5 in c:\\users\\richie\\anaconda3\\lib\\site-packages (from importlib-metadata>=4.4->markdown>=2.6.8->tensorboard>=2.4.1->-r requirements.txt (line 18)) (3.4.1)\n",
      "Requirement already satisfied: pyasn1<0.5.0,>=0.4.6 in c:\\users\\richie\\anaconda3\\lib\\site-packages (from pyasn1-modules>=0.2.1->google-auth<3,>=1.6.3->tensorboard>=2.4.1->-r requirements.txt (line 18)) (0.4.8)\n",
      "Requirement already satisfied: oauthlib>=3.0.0 in c:\\users\\richie\\anaconda3\\lib\\site-packages (from requests-oauthlib>=0.7.0->google-auth-oauthlib<0.5,>=0.4.1->tensorboard>=2.4.1->-r requirements.txt (line 18)) (3.1.1)\n",
      "Requirement already satisfied: pickleshare in c:\\users\\richie\\anaconda3\\lib\\site-packages (from ipython->-r requirements.txt (line 35)) (0.7.5)\n",
      "Requirement already satisfied: colorama in c:\\users\\richie\\anaconda3\\lib\\site-packages (from ipython->-r requirements.txt (line 35)) (0.4.4)\n",
      "Requirement already satisfied: pygments in c:\\users\\richie\\anaconda3\\lib\\site-packages (from ipython->-r requirements.txt (line 35)) (2.8.1)\n",
      "Requirement already satisfied: decorator in c:\\users\\richie\\anaconda3\\lib\\site-packages (from ipython->-r requirements.txt (line 35)) (5.0.6)\n",
      "Requirement already satisfied: traitlets>=4.2 in c:\\users\\richie\\anaconda3\\lib\\site-packages (from ipython->-r requirements.txt (line 35)) (5.0.5)\n",
      "Requirement already satisfied: prompt-toolkit!=3.0.0,!=3.0.1,<3.1.0,>=2.0.0 in c:\\users\\richie\\anaconda3\\lib\\site-packages (from ipython->-r requirements.txt (line 35)) (3.0.17)\n",
      "Requirement already satisfied: jedi>=0.16 in c:\\users\\richie\\anaconda3\\lib\\site-packages (from ipython->-r requirements.txt (line 35)) (0.17.2)\n",
      "Requirement already satisfied: backcall in c:\\users\\richie\\anaconda3\\lib\\site-packages (from ipython->-r requirements.txt (line 35)) (0.2.0)\n",
      "Requirement already satisfied: parso<0.8.0,>=0.7.0 in c:\\users\\richie\\anaconda3\\lib\\site-packages (from jedi>=0.16->ipython->-r requirements.txt (line 35)) (0.7.0)\n",
      "Requirement already satisfied: wcwidth in c:\\users\\richie\\anaconda3\\lib\\site-packages (from prompt-toolkit!=3.0.0,!=3.0.1,<3.1.0,>=2.0.0->ipython->-r requirements.txt (line 35)) (0.2.5)\n",
      "Requirement already satisfied: ipython-genutils in c:\\users\\richie\\anaconda3\\lib\\site-packages (from traitlets>=4.2->ipython->-r requirements.txt (line 35)) (0.2.0)\n"
     ]
    }
   ],
   "source": [
    "!cd yolov5 & pip install -r requirements.txt"
   ]
  },
  {
   "cell_type": "code",
   "execution_count": 3,
   "id": "7cf99d5f",
   "metadata": {},
   "outputs": [],
   "source": [
    "import torch\n",
    "from matplotlib import pyplot as plt\n",
    "import numpy as np\n",
    "import cv2"
   ]
  },
  {
   "cell_type": "code",
   "execution_count": 4,
   "id": "9980aa2d",
   "metadata": {},
   "outputs": [
    {
     "name": "stderr",
     "output_type": "stream",
     "text": [
      "Downloading: \"https://github.com/ultralytics/yolov5/archive/master.zip\" to C:\\Users\\Richie/.cache\\torch\\hub\\master.zip\n",
      "YOLOv5  2022-7-12 Python-3.8.8 torch-1.11.0+cpu CPU\n",
      "\n",
      "Fusing layers... \n",
      "custom_YOLOv5s summary: 232 layers, 7249215 parameters, 0 gradients\n",
      "Adding AutoShape... \n"
     ]
    }
   ],
   "source": [
    "model = torch.hub.load('ultralytics/yolov5', 'custom', path='best.pt', force_reload=True)"
   ]
  },
  {
   "cell_type": "code",
   "execution_count": 5,
   "id": "5150f28a",
   "metadata": {},
   "outputs": [
    {
     "name": "stdout",
     "output_type": "stream",
     "text": [
      "Threat Detected\n"
     ]
    },
    {
     "name": "stderr",
     "output_type": "stream",
     "text": [
      "Requested http://ipinfo.io/json\n"
     ]
    },
    {
     "name": "stdout",
     "output_type": "stream",
     "text": [
      "18.4   73.2\n",
      "{\"return\":true,\"request_id\":\"265cx7nrhmwjqy8\",\"message\":[\"SMS sent successfully.\"]}\n",
      "Threat Detected\n",
      "Threat Detected\n",
      "Threat Detected\n",
      "Threat Detected\n",
      "Threat Detected\n",
      "Threat Detected\n"
     ]
    }
   ],
   "source": [
    "cap = cv2.VideoCapture(0)\n",
    "sent = 0\n",
    "while cap.isOpened():\n",
    "    ret, frame = cap.read()\n",
    "    \n",
    "    # Make detections \n",
    "    results = model(frame)\n",
    "    confidence_threshold = 0.6\n",
    "    res_li = results.pandas().xyxy[0].confidence.tolist()\n",
    "    if res_li:\n",
    "        if res_li[0] > confidence_threshold:\n",
    "            print('Threat Detected')\n",
    "            if sent == 0:\n",
    "                %run -i alert.py\n",
    "                sent = 1\n",
    "        \n",
    "    cv2.imshow('YOLO', np.squeeze(results.render()))\n",
    "    \n",
    "    if cv2.waitKey(10) & 0xFF == ord('q'):\n",
    "        break\n",
    "cap.release()\n",
    "cv2.destroyAllWindows()"
   ]
  },
  {
   "cell_type": "code",
   "execution_count": null,
   "id": "9d774fae",
   "metadata": {},
   "outputs": [],
   "source": []
  },
  {
   "cell_type": "code",
   "execution_count": null,
   "id": "f0f41ee5",
   "metadata": {},
   "outputs": [],
   "source": []
  }
 ],
 "metadata": {
  "kernelspec": {
   "display_name": "Python 3",
   "language": "python",
   "name": "python3"
  },
  "language_info": {
   "codemirror_mode": {
    "name": "ipython",
    "version": 3
   },
   "file_extension": ".py",
   "mimetype": "text/x-python",
   "name": "python",
   "nbconvert_exporter": "python",
   "pygments_lexer": "ipython3",
   "version": "3.8.8"
  }
 },
 "nbformat": 4,
 "nbformat_minor": 5
}
